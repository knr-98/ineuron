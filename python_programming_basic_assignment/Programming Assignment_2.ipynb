{
 "cells": [
  {
   "cell_type": "markdown",
   "metadata": {},
   "source": [
    "**1) Write a Python program to convert kilometers to miles?**"
   ]
  },
  {
   "cell_type": "code",
   "execution_count": 72,
   "metadata": {},
   "outputs": [
    {
     "name": "stdout",
     "output_type": "stream",
     "text": [
      "Enter distance in kilometers = 10\n",
      "Distance in miles =  6.21371\n"
     ]
    }
   ],
   "source": [
    "km = float(input('Enter distance in kilometers = '))\n",
    "print('Distance in miles = ',km*0.621371)"
   ]
  },
  {
   "cell_type": "markdown",
   "metadata": {},
   "source": [
    "**2) Write a Python program to convert Celsius to Fahrenheit?**"
   ]
  },
  {
   "cell_type": "code",
   "execution_count": 73,
   "metadata": {},
   "outputs": [
    {
     "name": "stdout",
     "output_type": "stream",
     "text": [
      "Enter temperature in Celsius = 0\n",
      "Temperature in Fahrenheit =  32.0\n"
     ]
    }
   ],
   "source": [
    "c = float(input('Enter temperature in Celsius = '))\n",
    "print('Temperature in Fahrenheit = ',(c*(9/5))+32)"
   ]
  },
  {
   "cell_type": "markdown",
   "metadata": {},
   "source": [
    "**3) Write a Python program to display calendar?**"
   ]
  },
  {
   "cell_type": "code",
   "execution_count": 12,
   "metadata": {},
   "outputs": [
    {
     "name": "stdout",
     "output_type": "stream",
     "text": [
      "Enter year 2021\n",
      "Enter month 3\n",
      "     March 2021\n",
      "Mo Tu We Th Fr Sa Su\n",
      " 1  2  3  4  5  6  7\n",
      " 8  9 10 11 12 13 14\n",
      "15 16 17 18 19 20 21\n",
      "22 23 24 25 26 27 28\n",
      "29 30 31\n",
      "\n"
     ]
    }
   ],
   "source": [
    "import calendar \n",
    "\n",
    "year = int(input('Enter year '))\n",
    "month = int(input('Enter month '))\n",
    "\n",
    "print(calendar.month(year,month))"
   ]
  },
  {
   "cell_type": "markdown",
   "metadata": {},
   "source": [
    "**4) Write a Python program to solve quadratic equation?**"
   ]
  },
  {
   "cell_type": "code",
   "execution_count": 80,
   "metadata": {},
   "outputs": [
    {
     "name": "stdout",
     "output_type": "stream",
     "text": [
      "Enter the value of constant \"a\" for the euqation a*x^2 + b*x + c : 1\n",
      "Enter the value of constant \"b\" for the equation a*x^2 + b*x + c : 1\n",
      "Enter the value of constant \"c\" for the equation a*x^2 + b*x + c : 1\n",
      "\n",
      "Roots are complex and distinct and their values are -0.5 +0.866i & -0.5 -0.866i\n"
     ]
    }
   ],
   "source": [
    "a = float(input('Enter the value of constant \"a\" for the euqation a*x^2 + b*x + c : '))\n",
    "b = float(input('Enter the value of constant \"b\" for the equation a*x^2 + b*x + c : '))\n",
    "c = float(input('Enter the value of constant \"c\" for the equation a*x^2 + b*x + c : '))\n",
    "\n",
    "d = (b**2 - (4*a*c))\n",
    "if d == 0:\n",
    "    x1 = (-b)/(2*a)\n",
    "    print('\\nRoots are real and same and its value is ',x1)\n",
    "\n",
    "elif (d > 0):\n",
    "    x1 = (-b + (d)**0.5)/(2*a)\n",
    "    x2 = (-b - (d)**0.5)/(2*a)\n",
    "    print('\\nRoots are real and distict and their values are {} & {}'.format(x1,x2))\n",
    "\n",
    "elif (d < 0):\n",
    "    i = (abs(d)**0.5)/(2*a)\n",
    "    x1 = complex(f'{(-b)/(2*a)}+{i}j')\n",
    "    x2 = complex(f'{(-b)/(2*a)}-{i}j')\n",
    "    print('\\nRoots are complex and distinct and their values are {} +{}i & {} {}i'.format(x1.real,round(x1.imag,3),x2.real,round(x2.imag,3)))\n"
   ]
  },
  {
   "cell_type": "markdown",
   "metadata": {},
   "source": [
    "**5) Write a Python program to swap two variables without temp variable?**"
   ]
  },
  {
   "cell_type": "code",
   "execution_count": 81,
   "metadata": {},
   "outputs": [
    {
     "name": "stdout",
     "output_type": "stream",
     "text": [
      "Enter the value of first variable : 4\n",
      "Enter the vlaue of second variable : 5\n",
      "Value before swapping\n",
      "a = 4\n",
      "b = 5\n",
      "Value after swapping\n",
      "a = 5\n",
      "b = 4\n"
     ]
    }
   ],
   "source": [
    "a = int(input('Enter the value of first variable : '))\n",
    "b = int(input('Enter the vlaue of second variable : '))\n",
    "\n",
    "print(f'Value before swapping\\na = {a}\\nb = {b}')\n",
    "\n",
    "b = a+b\n",
    "a = b-a\n",
    "b = b-a \n",
    "\n",
    "print(f'Value after swapping\\na = {a}\\nb = {b}')"
   ]
  },
  {
   "cell_type": "code",
   "execution_count": null,
   "metadata": {},
   "outputs": [],
   "source": []
  }
 ],
 "metadata": {
  "kernelspec": {
   "display_name": "Python 3",
   "language": "python",
   "name": "python3"
  },
  "language_info": {
   "codemirror_mode": {
    "name": "ipython",
    "version": 3
   },
   "file_extension": ".py",
   "mimetype": "text/x-python",
   "name": "python",
   "nbconvert_exporter": "python",
   "pygments_lexer": "ipython3",
   "version": "3.8.5"
  }
 },
 "nbformat": 4,
 "nbformat_minor": 4
}
