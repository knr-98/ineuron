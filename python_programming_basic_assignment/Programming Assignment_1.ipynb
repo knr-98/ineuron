{
 "cells": [
  {
   "cell_type": "markdown",
   "metadata": {},
   "source": [
    "**1) Write a Python program to print \"Hello Python\"?**"
   ]
  },
  {
   "cell_type": "code",
   "execution_count": 1,
   "metadata": {},
   "outputs": [
    {
     "name": "stdout",
     "output_type": "stream",
     "text": [
      "Hello Python\n"
     ]
    }
   ],
   "source": [
    "print('Hello Python')"
   ]
  },
  {
   "cell_type": "markdown",
   "metadata": {},
   "source": [
    "**2) Write a Python program to do arithmetical operations addition and division.?**"
   ]
  },
  {
   "cell_type": "code",
   "execution_count": 28,
   "metadata": {},
   "outputs": [
    {
     "name": "stdout",
     "output_type": "stream",
     "text": [
      "Enter first number 45 \n",
      "Enter second number 67\n",
      "Addition =  112 \n",
      "Division =  0.6716417910447762\n"
     ]
    }
   ],
   "source": [
    "a = int(input('Enter first number '))\n",
    "b = int(input('Enter second number '))\n",
    "\n",
    "print('Addition = ',a+b,'\\nDivision = ',a/b)"
   ]
  },
  {
   "cell_type": "markdown",
   "metadata": {},
   "source": [
    "**3) Write a Python program to find the area of a triangle?**"
   ]
  },
  {
   "cell_type": "code",
   "execution_count": 29,
   "metadata": {},
   "outputs": [
    {
     "name": "stdout",
     "output_type": "stream",
     "text": [
      "Enter first side of the triangle 3\n",
      "Enter second side of the triangle 4\n",
      "Enter third side of the triangle 5\n",
      "area =  6.0\n"
     ]
    }
   ],
   "source": [
    "a = int(input('Enter first side of the triangle '))\n",
    "b = int(input('Enter second side of the triangle '))\n",
    "c = int(input('Enter third side of the triangle '))\n",
    "\n",
    "s = (a+b+c)/2\n",
    "\n",
    "area = (s*(s-a)*(s-b)*(s-c))**0.5\n",
    "\n",
    "print('area = ',area)"
   ]
  },
  {
   "cell_type": "markdown",
   "metadata": {},
   "source": [
    "**4) Write a Python program to swap two variables?**"
   ]
  },
  {
   "cell_type": "code",
   "execution_count": 17,
   "metadata": {},
   "outputs": [
    {
     "name": "stdout",
     "output_type": "stream",
     "text": [
      "Enter value of a 5\n",
      "Enter value of b 7\n",
      "Value before swapping\n",
      "a =  5 \n",
      "b =  7\n",
      "Value after swapping\n",
      "a =  7 \n",
      "b =  5\n"
     ]
    }
   ],
   "source": [
    "a = int(input('Enter value of a '))\n",
    "b = int(input('Enter value of b '))\n",
    "\n",
    "print('Value before swapping\\na = ',a,'\\nb = ',b)\n",
    "\n",
    "a,b = b,a\n",
    "\n",
    "print('Value after swapping\\na = ',a,'\\nb = ',b)"
   ]
  },
  {
   "cell_type": "markdown",
   "metadata": {},
   "source": [
    "**5) Write a Python program to generate a random number?**"
   ]
  },
  {
   "cell_type": "code",
   "execution_count": 33,
   "metadata": {},
   "outputs": [
    {
     "name": "stdout",
     "output_type": "stream",
     "text": [
      "Randonm number in the range 0-10 is  7\n"
     ]
    }
   ],
   "source": [
    "import random\n",
    "\n",
    "print('Randonm number in the range 0-10 is ',random.randint(0,10))"
   ]
  }
 ],
 "metadata": {
  "kernelspec": {
   "display_name": "Python 3",
   "language": "python",
   "name": "python3"
  },
  "language_info": {
   "codemirror_mode": {
    "name": "ipython",
    "version": 3
   },
   "file_extension": ".py",
   "mimetype": "text/x-python",
   "name": "python",
   "nbconvert_exporter": "python",
   "pygments_lexer": "ipython3",
   "version": "3.8.5"
  }
 },
 "nbformat": 4,
 "nbformat_minor": 4
}
